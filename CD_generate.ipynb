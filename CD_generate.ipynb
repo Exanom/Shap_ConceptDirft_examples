{
  "nbformat": 4,
  "nbformat_minor": 0,
  "metadata": {
    "colab": {
      "provenance": [],
      "authorship_tag": "ABX9TyM/6g5rndj4/5LdZmQpDRkr",
      "include_colab_link": true
    },
    "kernelspec": {
      "name": "python3",
      "display_name": "Python 3"
    },
    "language_info": {
      "name": "python"
    }
  },
  "cells": [
    {
      "cell_type": "markdown",
      "metadata": {
        "id": "view-in-github",
        "colab_type": "text"
      },
      "source": [
        "<a href=\"https://colab.research.google.com/github/Exanom/Shap_ConceptDirft_examples/blob/main/CD_generate.ipynb\" target=\"_parent\"><img src=\"https://colab.research.google.com/assets/colab-badge.svg\" alt=\"Open In Colab\"/></a>"
      ]
    },
    {
      "cell_type": "markdown",
      "source": [
        "**Before running the code, upload DataStreamGenerator_modified.py to colab**\n",
        "\n",
        "This library is slightly modified version of https://github.com/songqiaohu/THU-Concept-Drift-Datasets-v1.0 while it works in following examples, my quick modifications might have broken some features."
      ],
      "metadata": {
        "id": "yTlu0FtCbhNH"
      }
    },
    {
      "cell_type": "code",
      "execution_count": null,
      "metadata": {
        "id": "rPiaTgZPdRFy"
      },
      "outputs": [],
      "source": [
        "from DataStreamGenerator_modified import DataStreamGenerator"
      ]
    },
    {
      "cell_type": "code",
      "source": [
        "C = DataStreamGenerator(class_count=2, attribute_count=2, sample_count=10000, noise=False, redunce_variable=False)"
      ],
      "metadata": {
        "id": "N1ktcYAodUbb"
      },
      "execution_count": null,
      "outputs": []
    },
    {
      "cell_type": "code",
      "source": [
        "DATASETS = [\n",
        "    [C.Linear_Abrupt,'linear_abrupt'],\n",
        "    [C.Linear_Gradual_Rotation,'linear_gradual_rotation'],\n",
        "    [C.Linear_Sudden_Rotation,'linear_sudden_rotation'],\n",
        "    [C.Linear_Recurrent_Rotation,'linear_recurrent_rotation']\n",
        "  ]"
      ],
      "metadata": {
        "id": "KvqGm4y5dV9a"
      },
      "execution_count": null,
      "outputs": []
    },
    {
      "cell_type": "code",
      "source": [
        "for dataset, typ in DATASETS:\n",
        "  #In modified version the parameters are: subfolder_name: string, display_graphs: bool, save_graphs: bool\n",
        "  #The saved graphs will be in the subfolder_name\n",
        "  dataset(typ,False,True)"
      ],
      "metadata": {
        "colab": {
          "base_uri": "https://localhost:8080/",
          "height": 104
        },
        "id": "MPvt5zQCdc50",
        "outputId": "cd8deb82-c4f3-4993-bd44-9f92d03995e5"
      },
      "execution_count": null,
      "outputs": [
        {
          "output_type": "stream",
          "name": "stderr",
          "text": [
            "/content/DataStreamGenerator.py:201: UserWarning: No data for colormapping provided via 'c'. Parameters 'cmap' will be ignored\n",
            "  plt.scatter(X, Y, s=area0, c=\"hotpink\", edgecolors=\"g\", label=\"class0\", cmap='viridis', alpha=0.7)\n",
            "/content/DataStreamGenerator.py:202: UserWarning: No data for colormapping provided via 'c'. Parameters 'cmap' will be ignored\n",
            "  plt.scatter(X, Y, s=area1, c=\"#88c999\", edgecolors=\"blue\", label=\"class1\", cmap='viridis', alpha=0.7)\n"
          ]
        },
        {
          "output_type": "display_data",
          "data": {
            "text/plain": [
              "<Figure size 640x480 with 0 Axes>"
            ]
          },
          "metadata": {}
        }
      ]
    },
    {
      "cell_type": "code",
      "source": [
        "!rm -rf sample_data"
      ],
      "metadata": {
        "id": "xPKp7zFeeDLA"
      },
      "execution_count": null,
      "outputs": []
    },
    {
      "cell_type": "code",
      "source": [
        "!zip -r results.zip /content"
      ],
      "metadata": {
        "id": "Ue5_fpIveEct",
        "outputId": "b84bad33-8e59-4cb9-b0b1-e33ce7b69819",
        "colab": {
          "base_uri": "https://localhost:8080/"
        }
      },
      "execution_count": null,
      "outputs": [
        {
          "output_type": "stream",
          "name": "stdout",
          "text": [
            "  adding: content/ (stored 0%)\n",
            "  adding: content/.config/ (stored 0%)\n",
            "  adding: content/.config/logs/ (stored 0%)\n",
            "  adding: content/.config/logs/2024.11.15/ (stored 0%)\n",
            "  adding: content/.config/logs/2024.11.15/14.19.33.079327.log (deflated 56%)\n",
            "  adding: content/.config/logs/2024.11.15/14.19.07.543552.log (deflated 58%)\n",
            "  adding: content/.config/logs/2024.11.15/14.19.18.989337.log (deflated 85%)\n",
            "  adding: content/.config/logs/2024.11.15/14.18.45.909469.log (deflated 93%)\n",
            "  adding: content/.config/logs/2024.11.15/14.19.32.359443.log (deflated 57%)\n",
            "  adding: content/.config/logs/2024.11.15/14.19.20.453949.log (deflated 58%)\n",
            "  adding: content/.config/configurations/ (stored 0%)\n",
            "  adding: content/.config/configurations/config_default (deflated 15%)\n",
            "  adding: content/.config/.last_survey_prompt.yaml (stored 0%)\n",
            "  adding: content/.config/active_config (stored 0%)\n",
            "  adding: content/.config/config_sentinel (stored 0%)\n",
            "  adding: content/.config/gce (stored 0%)\n",
            "  adding: content/.config/hidden_gcloud_config_universe_descriptor_data_cache_configs.db (deflated 97%)\n",
            "  adding: content/.config/.last_opt_in_prompt.yaml (stored 0%)\n",
            "  adding: content/.config/default_configs.db (deflated 98%)\n",
            "  adding: content/.config/.last_update_check.json (deflated 22%)\n",
            "  adding: content/linear_sudden_rotation/ (stored 0%)\n",
            "  adding: content/linear_sudden_rotation/T_2.png (deflated 1%)\n",
            "  adding: content/linear_sudden_rotation/T_4.png (deflated 1%)\n",
            "  adding: content/linear_sudden_rotation/T_3.png (deflated 1%)\n",
            "  adding: content/linear_sudden_rotation/T_10.png (deflated 1%)\n",
            "  adding: content/linear_sudden_rotation/T_1.png (deflated 1%)\n",
            "  adding: content/linear_sudden_rotation/T_6.png (deflated 1%)\n",
            "  adding: content/linear_sudden_rotation/T_8.png (deflated 1%)\n",
            "  adding: content/linear_sudden_rotation/T_9.png (deflated 1%)\n",
            "  adding: content/linear_sudden_rotation/T_7.png (deflated 1%)\n",
            "  adding: content/linear_sudden_rotation/T_5.png (deflated 1%)\n",
            "  adding: content/linear_recurrent_rotation/ (stored 0%)\n",
            "  adding: content/linear_recurrent_rotation/T_2.png (deflated 1%)\n",
            "  adding: content/linear_recurrent_rotation/T_4.png (deflated 1%)\n",
            "  adding: content/linear_recurrent_rotation/T_3.png (deflated 1%)\n",
            "  adding: content/linear_recurrent_rotation/T_10.png (deflated 1%)\n",
            "  adding: content/linear_recurrent_rotation/T_1.png (deflated 1%)\n",
            "  adding: content/linear_recurrent_rotation/T_6.png (deflated 1%)\n",
            "  adding: content/linear_recurrent_rotation/T_8.png (deflated 1%)\n",
            "  adding: content/linear_recurrent_rotation/T_9.png (deflated 1%)\n",
            "  adding: content/linear_recurrent_rotation/T_7.png (deflated 1%)\n",
            "  adding: content/linear_recurrent_rotation/T_5.png (deflated 1%)\n",
            "  adding: content/__pycache__/ (stored 0%)\n",
            "  adding: content/__pycache__/DataStreamGenerator.cpython-310.pyc (deflated 65%)\n",
            "  adding: content/linear_gradual_rotation/ (stored 0%)\n",
            "  adding: content/linear_gradual_rotation/T_2.png (deflated 1%)\n",
            "  adding: content/linear_gradual_rotation/T_4.png (deflated 1%)\n",
            "  adding: content/linear_gradual_rotation/T_3.png (deflated 1%)\n",
            "  adding: content/linear_gradual_rotation/T_10.png (deflated 1%)\n",
            "  adding: content/linear_gradual_rotation/T_1.png (deflated 1%)\n",
            "  adding: content/linear_gradual_rotation/T_6.png (deflated 1%)\n",
            "  adding: content/linear_gradual_rotation/T_8.png (deflated 1%)\n",
            "  adding: content/linear_gradual_rotation/T_9.png (deflated 1%)\n",
            "  adding: content/linear_gradual_rotation/T_7.png (deflated 1%)\n",
            "  adding: content/linear_gradual_rotation/T_5.png (deflated 1%)\n",
            "  adding: content/DataStreamGenerator.py (deflated 89%)\n",
            "  adding: content/linear_abrupt/ (stored 0%)\n",
            "  adding: content/linear_abrupt/T_2.png (deflated 1%)\n",
            "  adding: content/linear_abrupt/T_4.png (deflated 1%)\n",
            "  adding: content/linear_abrupt/T_3.png (deflated 1%)\n",
            "  adding: content/linear_abrupt/T_10.png (deflated 1%)\n",
            "  adding: content/linear_abrupt/T_1.png (deflated 1%)\n",
            "  adding: content/linear_abrupt/T_6.png (deflated 1%)\n",
            "  adding: content/linear_abrupt/T_8.png (deflated 1%)\n",
            "  adding: content/linear_abrupt/T_9.png (deflated 1%)\n",
            "  adding: content/linear_abrupt/T_7.png (deflated 1%)\n",
            "  adding: content/linear_abrupt/T_5.png (deflated 1%)\n"
          ]
        }
      ]
    }
  ]
}