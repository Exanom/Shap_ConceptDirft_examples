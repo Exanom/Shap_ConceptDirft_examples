{
  "nbformat": 4,
  "nbformat_minor": 0,
  "metadata": {
    "colab": {
      "provenance": [],
      "authorship_tag": "ABX9TyPJhzgW+ssE/vhGJd44k99C",
      "include_colab_link": true
    },
    "kernelspec": {
      "name": "python3",
      "display_name": "Python 3"
    },
    "language_info": {
      "name": "python"
    }
  },
  "cells": [
    {
      "cell_type": "markdown",
      "metadata": {
        "id": "view-in-github",
        "colab_type": "text"
      },
      "source": [
        "<a href=\"https://colab.research.google.com/github/Exanom/Shap_ConceptDirft_examples/blob/main/simple_CD_detection.ipynb\" target=\"_parent\"><img src=\"https://colab.research.google.com/assets/colab-badge.svg\" alt=\"Open In Colab\"/></a>"
      ]
    },
    {
      "cell_type": "markdown",
      "source": [
        "**Before running the code, upload DataStreamGenerator_modified.py to colab**"
      ],
      "metadata": {
        "id": "WIRBlLLnc26-"
      }
    },
    {
      "cell_type": "code",
      "execution_count": null,
      "metadata": {
        "id": "mTaJ-Je9cxF7"
      },
      "outputs": [],
      "source": [
        "from DataStreamGenerator_modified import DataStreamGenerator"
      ]
    },
    {
      "cell_type": "code",
      "source": [
        "from sklearn.model_selection import train_test_split\n",
        "from sklearn.ensemble import RandomForestClassifier\n",
        "import shap\n",
        "import pandas as pd\n",
        "import numpy as np\n",
        "import matplotlib.pyplot as plt"
      ],
      "metadata": {
        "id": "A7GqfIn1c6nO"
      },
      "execution_count": null,
      "outputs": []
    },
    {
      "cell_type": "code",
      "source": [
        "C = DataStreamGenerator(class_count=2, attribute_count=2, sample_count=10000, noise=False, redunce_variable=False)"
      ],
      "metadata": {
        "id": "5CFkeB2Oc9tC"
      },
      "execution_count": null,
      "outputs": []
    },
    {
      "cell_type": "code",
      "source": [
        "DATASETS = [\n",
        "\n",
        "    [C.Linear_Gradual_Rotation,'linear_gradual_rotation'],\n",
        "    [C.Linear_Sudden_Rotation,'linear_sudden_rotation'],\n",
        "    [C.Linear_Recurrent_Rotation,'linear_recurrent_rotation'],\n",
        "    [C.Linear_Abrupt,'linear_abrupt'],\n",
        "  ]\n",
        "model = RandomForestClassifier()"
      ],
      "metadata": {
        "id": "9wqw6QZ1dCEn"
      },
      "execution_count": null,
      "outputs": []
    },
    {
      "cell_type": "code",
      "source": [
        "dataset = DATASETS[0]\n",
        "X,Y = dataset[0](dataset[1],False,True)"
      ],
      "metadata": {
        "colab": {
          "base_uri": "https://localhost:8080/",
          "height": 124
        },
        "id": "0mTfUH2udF74",
        "outputId": "199539eb-ab73-46e2-9369-312b23e81154"
      },
      "execution_count": null,
      "outputs": [
        {
          "output_type": "stream",
          "name": "stderr",
          "text": [
            "/content/DataStreamGenerator_modified.py:201: UserWarning: No data for colormapping provided via 'c'. Parameters 'cmap' will be ignored\n",
            "  plt.scatter(X, Y, s=area0, c=\"hotpink\", edgecolors=\"g\", label=\"class0\", cmap='viridis', alpha=0.7)\n",
            "/content/DataStreamGenerator_modified.py:202: UserWarning: No data for colormapping provided via 'c'. Parameters 'cmap' will be ignored\n",
            "  plt.scatter(X, Y, s=area1, c=\"#88c999\", edgecolors=\"blue\", label=\"class1\", cmap='viridis', alpha=0.7)\n"
          ]
        },
        {
          "output_type": "display_data",
          "data": {
            "text/plain": [
              "<Figure size 640x480 with 0 Axes>"
            ]
          },
          "metadata": {}
        }
      ]
    },
    {
      "cell_type": "code",
      "source": [
        "shaps = []\n",
        "for i in range(10):\n",
        "  start = (i*1000)\n",
        "  end = 1000+start\n",
        "  X_train, X_test, Y_train, Y_test = train_test_split(X[start:end],Y[start:end],test_size=0.3,\n",
        "                                                \tstratify =Y[start:end], random_state = 13)\n",
        "  model.fit(X_train,Y_train)\n",
        "  explainer = shap.TreeExplainer(model)\n",
        "  explanation = explainer(X[start:end])\n",
        "  #absolute of shap values\n",
        "  avg = np.abs(explanation.values)\n",
        "  #average for all samples\n",
        "  avg = avg.mean(0)\n",
        "  #average for all classes\n",
        "  avg = avg.mean(1)\n",
        "  shaps.append(avg)"
      ],
      "metadata": {
        "colab": {
          "base_uri": "https://localhost:8080/"
        },
        "id": "0-vVpd0qdKnh",
        "outputId": "6ba1ded1-55a8-48ce-e32c-42ccf670a78b"
      },
      "execution_count": null,
      "outputs": [
        {
          "output_type": "stream",
          "name": "stderr",
          "text": [
            "/usr/local/lib/python3.10/dist-packages/sklearn/base.py:1473: DataConversionWarning: A column-vector y was passed when a 1d array was expected. Please change the shape of y to (n_samples,), for example using ravel().\n",
            "  return fit_method(estimator, *args, **kwargs)\n",
            "/usr/local/lib/python3.10/dist-packages/sklearn/base.py:1473: DataConversionWarning: A column-vector y was passed when a 1d array was expected. Please change the shape of y to (n_samples,), for example using ravel().\n",
            "  return fit_method(estimator, *args, **kwargs)\n",
            "/usr/local/lib/python3.10/dist-packages/sklearn/base.py:1473: DataConversionWarning: A column-vector y was passed when a 1d array was expected. Please change the shape of y to (n_samples,), for example using ravel().\n",
            "  return fit_method(estimator, *args, **kwargs)\n",
            "/usr/local/lib/python3.10/dist-packages/sklearn/base.py:1473: DataConversionWarning: A column-vector y was passed when a 1d array was expected. Please change the shape of y to (n_samples,), for example using ravel().\n",
            "  return fit_method(estimator, *args, **kwargs)\n",
            "/usr/local/lib/python3.10/dist-packages/sklearn/base.py:1473: DataConversionWarning: A column-vector y was passed when a 1d array was expected. Please change the shape of y to (n_samples,), for example using ravel().\n",
            "  return fit_method(estimator, *args, **kwargs)\n",
            "/usr/local/lib/python3.10/dist-packages/sklearn/base.py:1473: DataConversionWarning: A column-vector y was passed when a 1d array was expected. Please change the shape of y to (n_samples,), for example using ravel().\n",
            "  return fit_method(estimator, *args, **kwargs)\n",
            "/usr/local/lib/python3.10/dist-packages/sklearn/base.py:1473: DataConversionWarning: A column-vector y was passed when a 1d array was expected. Please change the shape of y to (n_samples,), for example using ravel().\n",
            "  return fit_method(estimator, *args, **kwargs)\n",
            "/usr/local/lib/python3.10/dist-packages/sklearn/base.py:1473: DataConversionWarning: A column-vector y was passed when a 1d array was expected. Please change the shape of y to (n_samples,), for example using ravel().\n",
            "  return fit_method(estimator, *args, **kwargs)\n",
            "/usr/local/lib/python3.10/dist-packages/sklearn/base.py:1473: DataConversionWarning: A column-vector y was passed when a 1d array was expected. Please change the shape of y to (n_samples,), for example using ravel().\n",
            "  return fit_method(estimator, *args, **kwargs)\n",
            "/usr/local/lib/python3.10/dist-packages/sklearn/base.py:1473: DataConversionWarning: A column-vector y was passed when a 1d array was expected. Please change the shape of y to (n_samples,), for example using ravel().\n",
            "  return fit_method(estimator, *args, **kwargs)\n"
          ]
        }
      ]
    },
    {
      "cell_type": "code",
      "source": [
        "print(\"format:\")\n",
        "print(\"feature0 feature1\")\n",
        "for s in shaps:\n",
        "  print(\"=========\")\n",
        "\n",
        "  print(s)"
      ],
      "metadata": {
        "colab": {
          "base_uri": "https://localhost:8080/"
        },
        "id": "B-YzAeThd0gw",
        "outputId": "fc160b80-8583-4a2d-978f-c82f6abc3789"
      },
      "execution_count": null,
      "outputs": [
        {
          "output_type": "stream",
          "name": "stdout",
          "text": [
            "format:\n",
            "feature0 feature1\n",
            "=========\n",
            "[0.1949123  0.32589429]\n",
            "=========\n",
            "[0.08745725 0.42496631]\n",
            "=========\n",
            "[0.01563509 0.4736094 ]\n",
            "=========\n",
            "[0.08377916 0.41963173]\n",
            "=========\n",
            "[0.19141614 0.32948169]\n",
            "=========\n",
            "[0.31314136 0.21108857]\n",
            "=========\n",
            "[0.42595919 0.08431033]\n",
            "=========\n",
            "[0.4787668  0.01358128]\n",
            "=========\n",
            "[0.42267965 0.09128486]\n",
            "=========\n",
            "[0.33143064 0.18806574]\n"
          ]
        }
      ]
    },
    {
      "cell_type": "code",
      "source": [
        "df = pd.DataFrame(shaps)\n",
        "df.columns = ['x', 'y']\n",
        "for col in df.columns:\n",
        "  plt.plot(range(len(df[col])),df[col], label=col, marker='o')\n",
        "plt.legend()\n",
        "plt.show()"
      ],
      "metadata": {
        "colab": {
          "base_uri": "https://localhost:8080/",
          "height": 434
        },
        "id": "a8b5nvE1e8sa",
        "outputId": "397ebb89-9fcb-4afb-db8f-77f1d0416d0c"
      },
      "execution_count": null,
      "outputs": [
        {
          "output_type": "display_data",
          "data": {
            "text/plain": [
              "<Figure size 640x480 with 1 Axes>"
            ],
            "image/png": "[encoded data removed]"
          },
          "metadata": {}
        }
      ]
    }
  ]
}