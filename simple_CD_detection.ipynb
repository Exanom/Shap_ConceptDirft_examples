{
  "nbformat": 4,
  "nbformat_minor": 0,
  "metadata": {
    "colab": {
      "provenance": [],
      "authorship_tag": "ABX9TyMfqgvz1wIU1bVmcgBnoD9w",
      "include_colab_link": true
    },
    "kernelspec": {
      "name": "python3",
      "display_name": "Python 3"
    },
    "language_info": {
      "name": "python"
    }
  },
  "cells": [
    {
      "cell_type": "markdown",
      "metadata": {
        "id": "view-in-github",
        "colab_type": "text"
      },
      "source": [
        "<a href=\"https://colab.research.google.com/github/Exanom/Shap_ConceptDirft_examples/blob/main/simple_CD_detection.ipynb\" target=\"_parent\"><img src=\"https://colab.research.google.com/assets/colab-badge.svg\" alt=\"Open In Colab\"/></a>"
      ]
    },
    {
      "cell_type": "markdown",
      "source": [
        "**Before running the code, upload DataStreamGenerator_modified.py to colab**"
      ],
      "metadata": {
        "id": "WIRBlLLnc26-"
      }
    },
    {
      "cell_type": "markdown",
      "source": [
        "## In this example we'll use our own method to graph shap values"
      ],
      "metadata": {
        "id": "FKCATRFTiesA"
      }
    },
    {
      "cell_type": "code",
      "execution_count": 1,
      "metadata": {
        "id": "mTaJ-Je9cxF7"
      },
      "outputs": [],
      "source": [
        "from DataStreamGenerator_modified import DataStreamGenerator"
      ]
    },
    {
      "cell_type": "code",
      "source": [
        "from sklearn.model_selection import train_test_split\n",
        "from sklearn.ensemble import RandomForestClassifier\n",
        "import shap\n",
        "import pandas as pd\n",
        "import numpy as np\n",
        "import matplotlib.pyplot as plt"
      ],
      "metadata": {
        "id": "A7GqfIn1c6nO"
      },
      "execution_count": 2,
      "outputs": []
    },
    {
      "cell_type": "code",
      "source": [
        "C = DataStreamGenerator(class_count=2, attribute_count=2, sample_count=10000, noise=False, redunce_variable=False)"
      ],
      "metadata": {
        "id": "5CFkeB2Oc9tC"
      },
      "execution_count": 3,
      "outputs": []
    },
    {
      "cell_type": "code",
      "source": [
        "DATASETS = [\n",
        "\n",
        "    [C.Linear_Gradual_Rotation,'linear_gradual_rotation'],\n",
        "    [C.Linear_Sudden_Rotation,'linear_sudden_rotation'],\n",
        "    [C.Linear_Recurrent_Rotation,'linear_recurrent_rotation'],\n",
        "    [C.Linear_Abrupt,'linear_abrupt'],\n",
        "  ]\n",
        "model = RandomForestClassifier()"
      ],
      "metadata": {
        "id": "9wqw6QZ1dCEn"
      },
      "execution_count": 4,
      "outputs": []
    },
    {
      "cell_type": "code",
      "source": [
        "dataset = DATASETS[0]\n",
        "X,Y = dataset[0](dataset[1],False,True)"
      ],
      "metadata": {
        "colab": {
          "base_uri": "https://localhost:8080/",
          "height": 104
        },
        "id": "0mTfUH2udF74",
        "outputId": "10c4f729-db03-4376-ec76-cfa8d6c982ac"
      },
      "execution_count": 5,
      "outputs": [
        {
          "output_type": "stream",
          "name": "stderr",
          "text": [
            "/content/DataStreamGenerator_modified.py:201: UserWarning: No data for colormapping provided via 'c'. Parameters 'cmap' will be ignored\n",
            "  plt.scatter(X, Y, s=area0, c=\"hotpink\", edgecolors=\"g\", label=\"class0\", cmap='viridis', alpha=0.7)\n",
            "/content/DataStreamGenerator_modified.py:202: UserWarning: No data for colormapping provided via 'c'. Parameters 'cmap' will be ignored\n",
            "  plt.scatter(X, Y, s=area1, c=\"#88c999\", edgecolors=\"blue\", label=\"class1\", cmap='viridis', alpha=0.7)\n"
          ]
        },
        {
          "output_type": "display_data",
          "data": {
            "text/plain": [
              "<Figure size 640x480 with 0 Axes>"
            ]
          },
          "metadata": {}
        }
      ]
    },
    {
      "cell_type": "code",
      "source": [
        "shaps = []\n",
        "for i in range(10):\n",
        "  start = (i*1000)\n",
        "  end = 1000+start\n",
        "  X_train, X_test, Y_train, Y_test = train_test_split(X[start:end],Y[start:end],test_size=0.3,\n",
        "                                                \tstratify =Y[start:end], random_state = 13)\n",
        "  model.fit(X_train,Y_train)\n",
        "  explainer = shap.TreeExplainer(model)\n",
        "  explanation = explainer(X[start:end])\n",
        "  #Calculate an average value for each feature, so in this example, we have only four final values per chunk, much easier to interpret\n",
        "\n",
        "  #absolute of shap values, we must take into account that shap values can be both positive and negative, but even \"low\" negative values tell us about the information carried by the feature.\n",
        "  avg = np.abs(explanation.values)\n",
        "  #average for all samples\n",
        "  avg = avg.mean(0)\n",
        "  #print(avg)\n",
        "  #average for all classes\n",
        "  avg = avg.mean(1)\n",
        "  shaps.append(avg)"
      ],
      "metadata": {
        "colab": {
          "base_uri": "https://localhost:8080/"
        },
        "id": "0-vVpd0qdKnh",
        "outputId": "fa0c08ef-5267-4dda-e751-691106f400a6"
      },
      "execution_count": 11,
      "outputs": [
        {
          "output_type": "stream",
          "name": "stderr",
          "text": [
            "/usr/local/lib/python3.10/dist-packages/sklearn/base.py:1473: DataConversionWarning: A column-vector y was passed when a 1d array was expected. Please change the shape of y to (n_samples,), for example using ravel().\n",
            "  return fit_method(estimator, *args, **kwargs)\n",
            "/usr/local/lib/python3.10/dist-packages/sklearn/base.py:1473: DataConversionWarning: A column-vector y was passed when a 1d array was expected. Please change the shape of y to (n_samples,), for example using ravel().\n",
            "  return fit_method(estimator, *args, **kwargs)\n",
            "/usr/local/lib/python3.10/dist-packages/sklearn/base.py:1473: DataConversionWarning: A column-vector y was passed when a 1d array was expected. Please change the shape of y to (n_samples,), for example using ravel().\n",
            "  return fit_method(estimator, *args, **kwargs)\n",
            "/usr/local/lib/python3.10/dist-packages/sklearn/base.py:1473: DataConversionWarning: A column-vector y was passed when a 1d array was expected. Please change the shape of y to (n_samples,), for example using ravel().\n",
            "  return fit_method(estimator, *args, **kwargs)\n",
            "/usr/local/lib/python3.10/dist-packages/sklearn/base.py:1473: DataConversionWarning: A column-vector y was passed when a 1d array was expected. Please change the shape of y to (n_samples,), for example using ravel().\n",
            "  return fit_method(estimator, *args, **kwargs)\n",
            "/usr/local/lib/python3.10/dist-packages/sklearn/base.py:1473: DataConversionWarning: A column-vector y was passed when a 1d array was expected. Please change the shape of y to (n_samples,), for example using ravel().\n",
            "  return fit_method(estimator, *args, **kwargs)\n",
            "/usr/local/lib/python3.10/dist-packages/sklearn/base.py:1473: DataConversionWarning: A column-vector y was passed when a 1d array was expected. Please change the shape of y to (n_samples,), for example using ravel().\n",
            "  return fit_method(estimator, *args, **kwargs)\n",
            "/usr/local/lib/python3.10/dist-packages/sklearn/base.py:1473: DataConversionWarning: A column-vector y was passed when a 1d array was expected. Please change the shape of y to (n_samples,), for example using ravel().\n",
            "  return fit_method(estimator, *args, **kwargs)\n",
            "/usr/local/lib/python3.10/dist-packages/sklearn/base.py:1473: DataConversionWarning: A column-vector y was passed when a 1d array was expected. Please change the shape of y to (n_samples,), for example using ravel().\n",
            "  return fit_method(estimator, *args, **kwargs)\n",
            "/usr/local/lib/python3.10/dist-packages/sklearn/base.py:1473: DataConversionWarning: A column-vector y was passed when a 1d array was expected. Please change the shape of y to (n_samples,), for example using ravel().\n",
            "  return fit_method(estimator, *args, **kwargs)\n"
          ]
        }
      ]
    },
    {
      "cell_type": "code",
      "source": [
        "print(\"format:\")\n",
        "print(\"x   y\")\n",
        "for s in shaps:\n",
        "  print(\"=========\")\n",
        "\n",
        "  print(s)"
      ],
      "metadata": {
        "colab": {
          "base_uri": "https://localhost:8080/"
        },
        "id": "B-YzAeThd0gw",
        "outputId": "b1941eec-e88f-43b3-feae-96035f1584e6"
      },
      "execution_count": 13,
      "outputs": [
        {
          "output_type": "stream",
          "name": "stdout",
          "text": [
            "format:\n",
            "x   y\n",
            "=========\n",
            "[0.19472432 0.32478735]\n",
            "=========\n",
            "[0.08677656 0.42378252]\n",
            "=========\n",
            "[0.01666292 0.47394058]\n",
            "=========\n",
            "[0.08519231 0.42575396]\n",
            "=========\n",
            "[0.19297326 0.33400394]\n",
            "=========\n",
            "[0.33352083 0.19108046]\n",
            "=========\n",
            "[0.41752232 0.08796224]\n",
            "=========\n",
            "[0.47930256 0.01479484]\n",
            "=========\n",
            "[0.42597317 0.09002506]\n",
            "=========\n",
            "[0.32500038 0.19536849]\n"
          ]
        }
      ]
    },
    {
      "cell_type": "code",
      "source": [
        "#By putting our values on a graph, we can see whether and where concept drift happened(Try it with abrupt CD)\n",
        "df = pd.DataFrame(shaps)\n",
        "df.columns = ['x', 'y']\n",
        "for col in df.columns:\n",
        "  plt.plot(range(len(df[col])),df[col], label=col, marker='o')\n",
        "plt.legend()\n",
        "plt.show()"
      ],
      "metadata": {
        "colab": {
          "base_uri": "https://localhost:8080/",
          "height": 435
        },
        "id": "a8b5nvE1e8sa",
        "outputId": "d4d1430c-8297-4890-882a-897d76801b55"
      },
      "execution_count": 8,
      "outputs": [
        {
          "output_type": "display_data",
          "data": {
            "text/plain": [
              "<Figure size 640x480 with 1 Axes>"
            ],
            "image/png": "[encoded data removed]"
          },
          "metadata": {}
        }
      ]
    }
  ]
}